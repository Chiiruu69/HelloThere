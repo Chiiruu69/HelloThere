{
  "nbformat": 4,
  "nbformat_minor": 0,
  "metadata": {
    "colab": {
      "name": "21stJuly.ipynb",
      "provenance": [],
      "authorship_tag": "ABX9TyPXZ4NDgYkcBy0f/pQD5sFh",
      "include_colab_link": true
    },
    "kernelspec": {
      "name": "python3",
      "display_name": "Python 3"
    },
    "language_info": {
      "name": "python"
    }
  },
  "cells": [
    {
      "cell_type": "markdown",
      "metadata": {
        "id": "view-in-github",
        "colab_type": "text"
      },
      "source": [
        "<a href=\"https://colab.research.google.com/github/Chiiruu69/HelloThere/blob/main/21stJuly.ipynb\" target=\"_parent\"><img src=\"https://colab.research.google.com/assets/colab-badge.svg\" alt=\"Open In Colab\"/></a>"
      ]
    },
    {
      "cell_type": "code",
      "source": [
        "studentlist={'danish', 'jaison', 'sangeetha','uma','amrutha','lohita','prasaad','ashwathi'}\n",
        "placedstudents=[\"uma\", \"danish\", \"amrutha\"]\n",
        "\n",
        "notplacedstudents=set(studentlist)-set(placedstudents)\n",
        "print(\"students yet to get job \\n\" ,notplacedstudents)"
      ],
      "metadata": {
        "colab": {
          "base_uri": "https://localhost:8080/"
        },
        "id": "4bJdYgZ_Ov5i",
        "outputId": "4b96e57d-61a3-4569-955b-f2653eaa036b"
      },
      "execution_count": null,
      "outputs": [
        {
          "output_type": "stream",
          "name": "stdout",
          "text": [
            "students yet to get job \n",
            " {'ashwathi', 'sangeetha', 'lohita', 'prasaad', 'jaison'}\n"
          ]
        }
      ]
    },
    {
      "cell_type": "code",
      "source": [
        "numbers={1,2,3,4,5,6,7,8,9,10}\n",
        "odd={1,3,5,7,9}\n",
        "even={2,4,6,8,10}\n",
        "\n",
        "print(odd.isdisjoint(even))\n",
        "print(numbers.issuperset(odd))\n",
        "print(odd.issuperset(numbers))\n",
        "print(odd.issubset(numbers))"
      ],
      "metadata": {
        "colab": {
          "base_uri": "https://localhost:8080/"
        },
        "id": "RQvdK24gUBdq",
        "outputId": "b96b27a8-6b8e-4065-9cfa-74b85cec771d"
      },
      "execution_count": 1,
      "outputs": [
        {
          "output_type": "stream",
          "name": "stdout",
          "text": [
            "True\n",
            "True\n",
            "False\n",
            "True\n"
          ]
        }
      ]
    },
    {
      "cell_type": "code",
      "source": [
        "set1={1,2,3,4}\n",
        "print(set1)\n",
        "print(type(set1))"
      ],
      "metadata": {
        "colab": {
          "base_uri": "https://localhost:8080/"
        },
        "id": "xmAMs3WnKHAG",
        "outputId": "1d148aea-c378-4b64-a600-a22a84a00063"
      },
      "execution_count": 7,
      "outputs": [
        {
          "output_type": "stream",
          "name": "stdout",
          "text": [
            "{1, 2, 3, 4}\n",
            "<class 'set'>\n"
          ]
        }
      ]
    },
    {
      "cell_type": "code",
      "source": [
        "chiru=set(\"AWESOME\")\n",
        "print(chiru)"
      ],
      "metadata": {
        "colab": {
          "base_uri": "https://localhost:8080/"
        },
        "id": "qOoEN-rsLGBt",
        "outputId": "9b79da8c-649f-4563-c71b-275245bc070d"
      },
      "execution_count": 10,
      "outputs": [
        {
          "output_type": "stream",
          "name": "stdout",
          "text": [
            "{'O', 'W', 'E', 'S', 'A', 'M'}\n"
          ]
        }
      ]
    },
    {
      "cell_type": "code",
      "source": [
        "set2={1,2,3,4}\n",
        "set3={2,3,5,6}\n",
        "union=set(set2)|set(set3)         #union\n",
        "print(\"union is \",(union))     "
      ],
      "metadata": {
        "colab": {
          "base_uri": "https://localhost:8080/"
        },
        "id": "jYqnQrNTLP3i",
        "outputId": "f8a83ca6-e6b3-4f05-c4a5-80fa2d89f685"
      },
      "execution_count": 18,
      "outputs": [
        {
          "output_type": "stream",
          "name": "stdout",
          "text": [
            "union is  {1, 2, 3, 4, 5, 6}\n"
          ]
        }
      ]
    },
    {
      "cell_type": "code",
      "source": [
        "lassi={\"books\",\"taylor swift\", \"harry styles\", \"starwars\", 11.11, \"marvel\"}\n",
        "chiru={\"guitar\",\"harry styles\",11.11, \"starwars\", \"marvel\",\"anime\"}\n",
        "intersection=set(lassi)&set(chiru)                                                #intersection\n",
        "print(\"intersection is :\" ,intersection)"
      ],
      "metadata": {
        "colab": {
          "base_uri": "https://localhost:8080/"
        },
        "id": "SOpqHCNhMGq-",
        "outputId": "7bf7fd12-c8de-4baa-de72-eba858972711"
      },
      "execution_count": 20,
      "outputs": [
        {
          "output_type": "stream",
          "name": "stdout",
          "text": [
            "intersection is : {'starwars', 'harry styles', 11.11, 'marvel'}\n"
          ]
        }
      ]
    },
    {
      "cell_type": "code",
      "source": [
        "bruno={23,32,11,90}\n",
        "vardhan={69,90,23,70,1}\n",
        "print(\"the symmetric difference is :\" ,set(vardhan)^set(bruno))"
      ],
      "metadata": {
        "colab": {
          "base_uri": "https://localhost:8080/"
        },
        "id": "VRfA6cWDNtd6",
        "outputId": "3b2849b8-4b13-4aa3-9304-04ab65c248d6"
      },
      "execution_count": 22,
      "outputs": [
        {
          "output_type": "stream",
          "name": "stdout",
          "text": [
            "the symmetric difference is : {32, 1, 69, 70, 11}\n"
          ]
        }
      ]
    }
  ]
}