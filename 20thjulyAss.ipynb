{
  "nbformat": 4,
  "nbformat_minor": 0,
  "metadata": {
    "colab": {
      "name": "20thjulyAss.ipynb",
      "provenance": [],
      "collapsed_sections": [],
      "authorship_tag": "ABX9TyPQHVKtHdS4drbEGC3CYxl1",
      "include_colab_link": true
    },
    "kernelspec": {
      "name": "python3",
      "display_name": "Python 3"
    },
    "language_info": {
      "name": "python"
    }
  },
  "cells": [
    {
      "cell_type": "markdown",
      "metadata": {
        "id": "view-in-github",
        "colab_type": "text"
      },
      "source": [
        "<a href=\"https://colab.research.google.com/github/Chiiruu69/HelloThere/blob/main/20thjulyAss.ipynb\" target=\"_parent\"><img src=\"https://colab.research.google.com/assets/colab-badge.svg\" alt=\"Open In Colab\"/></a>"
      ]
    },
    {
      "cell_type": "code",
      "execution_count": 29,
      "metadata": {
        "colab": {
          "base_uri": "https://localhost:8080/"
        },
        "id": "dXko-4GstKi-",
        "outputId": "4773fc9f-2a95-439e-9d40-52a0ecce5e39"
      },
      "outputs": [
        {
          "output_type": "stream",
          "name": "stdout",
          "text": [
            "[1, 2, 'hello', 3.5]\n"
          ]
        }
      ],
      "source": [
        "list1=[1,2,\"hello\",3.5,]\n",
        "print(list1)\n"
      ]
    },
    {
      "cell_type": "code",
      "source": [
        "list2=[12,24,36]\n",
        "print(list2)\n",
        "list2.append(48)\n",
        "print(list2)"
      ],
      "metadata": {
        "colab": {
          "base_uri": "https://localhost:8080/"
        },
        "id": "KU6AV4zEFocK",
        "outputId": "896f769e-110f-4667-bd07-cbb310188430"
      },
      "execution_count": 32,
      "outputs": [
        {
          "output_type": "stream",
          "name": "stdout",
          "text": [
            "[12, 24, 36]\n",
            "[12, 24, 36, 48]\n"
          ]
        }
      ]
    },
    {
      "cell_type": "code",
      "source": [
        "list3=[10,20,30,\"legen\"]\n",
        "print(list3)\n",
        "list3.extend([\"wait for it\",\"daryy!\"])\n",
        "print(list3)"
      ],
      "metadata": {
        "colab": {
          "base_uri": "https://localhost:8080/"
        },
        "id": "XB_yWaH1F2_S",
        "outputId": "f0349135-bd69-4906-8388-dd44216fc41d"
      },
      "execution_count": 35,
      "outputs": [
        {
          "output_type": "stream",
          "name": "stdout",
          "text": [
            "[10, 20, 30, 'legen']\n",
            "[10, 20, 30, 'legen', 'wait for it', 'daryy!']\n"
          ]
        }
      ]
    },
    {
      "cell_type": "code",
      "source": [
        "list4=[30,60,90,69]\n",
        "print(list4)\n",
        "list4.remove(69)\n",
        "print(list4)"
      ],
      "metadata": {
        "colab": {
          "base_uri": "https://localhost:8080/"
        },
        "id": "C3je_jmvGRSH",
        "outputId": "5ca1eede-d4cd-4bed-bfa2-bc4f1811f284"
      },
      "execution_count": 37,
      "outputs": [
        {
          "output_type": "stream",
          "name": "stdout",
          "text": [
            "[30, 60, 90, 69]\n",
            "[30, 60, 90]\n"
          ]
        }
      ]
    },
    {
      "cell_type": "code",
      "source": [
        "list5=[\"trash\",\"awesome\",\"python\",69]\n",
        "print(list5)\n",
        "list5.reverse()\n",
        "print(list5)"
      ],
      "metadata": {
        "colab": {
          "base_uri": "https://localhost:8080/"
        },
        "id": "I8MDOWiGGmSr",
        "outputId": "69eba023-891e-4ac0-e7fb-2dd5e1407e91"
      },
      "execution_count": 39,
      "outputs": [
        {
          "output_type": "stream",
          "name": "stdout",
          "text": [
            "['trash', 'awesome', 'python', 69]\n",
            "[69, 'python', 'awesome', 'trash']\n"
          ]
        }
      ]
    },
    {
      "cell_type": "code",
      "source": [
        "list6=[\"KLU\",\"KLH\"]\n",
        "print(list6)\n",
        "list6.clear()\n",
        "print(list6)"
      ],
      "metadata": {
        "colab": {
          "base_uri": "https://localhost:8080/"
        },
        "id": "hijOILD_HAQa",
        "outputId": "f784e3b6-857e-4566-b4a0-693d8faa5d20"
      },
      "execution_count": 41,
      "outputs": [
        {
          "output_type": "stream",
          "name": "stdout",
          "text": [
            "['KLU', 'KLH']\n",
            "[]\n"
          ]
        }
      ]
    },
    {
      "cell_type": "code",
      "source": [
        "list7=[69,110,19,100,191]\n",
        "print(list7)\n",
        "list7.pop()\n",
        "print(list7)"
      ],
      "metadata": {
        "colab": {
          "base_uri": "https://localhost:8080/"
        },
        "id": "6YrZHRq4HN14",
        "outputId": "6910eef2-ba15-48dd-f767-4a32224b8aec"
      },
      "execution_count": 46,
      "outputs": [
        {
          "output_type": "stream",
          "name": "stdout",
          "text": [
            "[69, 110, 19, 100, 191]\n",
            "[69, 110, 19, 100]\n"
          ]
        }
      ]
    },
    {
      "cell_type": "code",
      "source": [
        "list8=[99,69,19,66,1,0,555]\n",
        "print(list8)\n",
        "list8.sort()\n",
        "print(list8)"
      ],
      "metadata": {
        "colab": {
          "base_uri": "https://localhost:8080/"
        },
        "id": "vuAyNwWyHpwS",
        "outputId": "91a524d1-b08b-4fec-c1fe-dd33e61a2c4b"
      },
      "execution_count": 47,
      "outputs": [
        {
          "output_type": "stream",
          "name": "stdout",
          "text": [
            "[99, 69, 19, 66, 1, 0, 555]\n",
            "[0, 1, 19, 66, 69, 99, 555]\n"
          ]
        }
      ]
    }
  ]
}